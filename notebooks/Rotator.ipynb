{
 "cells": [
  {
   "cell_type": "code",
   "execution_count": 5,
   "id": "0edf0f7e-0a90-4806-b0a1-f7a350090a03",
   "metadata": {},
   "outputs": [],
   "source": [
    "import cv2\n",
    "import os\n",
    "\n",
    "v_names = os.listdir(\"../data/raw\")"
   ]
  },
  {
   "cell_type": "code",
   "execution_count": 7,
   "id": "7951010b-0376-4e90-b927-a0156d89640f",
   "metadata": {},
   "outputs": [],
   "source": [
    "def rotate(v_name):\n",
    "    v_path = f\"../data/raw/{v_name}\"\n",
    "    out_path = f\"../data/rotated/{v_name}\"\n",
    "    \n",
    "    # Создаём объект для захвата видео\n",
    "    cap = cv2.VideoCapture(v_path)\n",
    "    \n",
    "    # Проверяем, успешно ли открыт файл\n",
    "    if not cap.isOpened():\n",
    "        print(\"Ошибка при открытии видеофайла\")\n",
    "        exit()\n",
    "    \n",
    "    \n",
    "    # Получаем свойства исходного видео\n",
    "    width = int(cap.get(cv2.CAP_PROP_FRAME_WIDTH))\n",
    "    height = int(cap.get(cv2.CAP_PROP_FRAME_HEIGHT))\n",
    "    fps = cap.get(cv2.CAP_PROP_FPS)\n",
    "    \n",
    "    # Создаем объект для записи видео\n",
    "    fourcc = cv2.VideoWriter_fourcc(*'mp4v')\n",
    "    out = cv2.VideoWriter(out_path, fourcc, fps, (height, width))\n",
    "    \n",
    "    while cap.isOpened():\n",
    "        ret, frame = cap.read()\n",
    "        if not ret:\n",
    "            break\n",
    "        \n",
    "        # Поворот кадра\n",
    "        rotated_frame = cv2.rotate(frame, cv2.ROTATE_90_CLOCKWISE)\n",
    "        \n",
    "        # Записываем повернутый кадр\n",
    "        out.write(rotated_frame)\n",
    "        \n",
    "        # Отображаем результат\n",
    "        cv2.imshow('Rotated Video', rotated_frame)\n",
    "        \n",
    "        if cv2.waitKey(25) & 0xFF == ord('q'):\n",
    "            break\n",
    "\n",
    "    cap.release()\n",
    "    out.release()\n",
    "    cv2.destroyAllWindows()"
   ]
  },
  {
   "cell_type": "code",
   "execution_count": 8,
   "id": "84ecf7d9-fd42-4821-8bc0-9adceb4992c2",
   "metadata": {},
   "outputs": [],
   "source": [
    "for name in v_names:\n",
    "    rotate(name)"
   ]
  }
 ],
 "metadata": {
  "kernelspec": {
   "display_name": "Python 3 (ipykernel)",
   "language": "python",
   "name": "python3"
  },
  "language_info": {
   "codemirror_mode": {
    "name": "ipython",
    "version": 3
   },
   "file_extension": ".py",
   "mimetype": "text/x-python",
   "name": "python",
   "nbconvert_exporter": "python",
   "pygments_lexer": "ipython3",
   "version": "3.11.6"
  }
 },
 "nbformat": 4,
 "nbformat_minor": 5
}
